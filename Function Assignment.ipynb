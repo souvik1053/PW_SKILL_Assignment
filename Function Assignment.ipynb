{
 "cells": [
  {
   "cell_type": "markdown",
   "id": "491d95e9",
   "metadata": {},
   "source": [
    "##### Q1. Python program to sort a list of tuples based on the integer value using a lambda function:"
   ]
  },
  {
   "cell_type": "code",
   "execution_count": 1,
   "id": "efbed9d2",
   "metadata": {},
   "outputs": [
    {
     "name": "stdout",
     "output_type": "stream",
     "text": [
      "[('Virat Kohli', 24936), ('Jack Kallis', 25534), ('Ricky Ponting', 27483), ('Sachin Tendulkar', 34357)]\n"
     ]
    }
   ],
   "source": [
    "players = [('Sachin Tendulkar', 34357), ('Ricky Ponting', 27483), ('Jack Kallis', 25534), ('Virat Kohli', 24936)]\n",
    "sorted_players = sorted(players, key=lambda x: x[1])\n",
    "print(sorted_players)\n"
   ]
  },
  {
   "cell_type": "markdown",
   "id": "d2c4671b",
   "metadata": {},
   "source": [
    "##### Q2. Python program to find squares of all numbers in the list using lambda and map:"
   ]
  },
  {
   "cell_type": "code",
   "execution_count": 2,
   "id": "afc77fc7",
   "metadata": {},
   "outputs": [
    {
     "name": "stdout",
     "output_type": "stream",
     "text": [
      "[1, 4, 9, 16, 25, 36, 49, 64, 81, 100]\n"
     ]
    }
   ],
   "source": [
    "numbers = [1, 2, 3, 4, 5, 6, 7, 8, 9, 10]\n",
    "squares = list(map(lambda x: x ** 2, numbers))\n",
    "print(squares)\n"
   ]
  },
  {
   "cell_type": "markdown",
   "id": "246b37bc",
   "metadata": {},
   "source": [
    "##### Q3. Python program to convert a list of integers into a tuple of strings using lambda and map:"
   ]
  },
  {
   "cell_type": "code",
   "execution_count": 3,
   "id": "1bc908a8",
   "metadata": {},
   "outputs": [
    {
     "name": "stdout",
     "output_type": "stream",
     "text": [
      "('1', '2', '3', '4', '5', '6', '7', '8', '9', '10')\n"
     ]
    }
   ],
   "source": [
    "numbers = [1, 2, 3, 4, 5, 6, 7, 8, 9, 10]\n",
    "string_tuple = tuple(map(lambda x: str(x), numbers))\n",
    "print(string_tuple)\n"
   ]
  },
  {
   "cell_type": "markdown",
   "id": "b9033a52",
   "metadata": {},
   "source": [
    "##### Q4. Python program using reduce to compute the product of numbers from 1 to 25:"
   ]
  },
  {
   "cell_type": "code",
   "execution_count": 4,
   "id": "f4141485",
   "metadata": {},
   "outputs": [
    {
     "name": "stdout",
     "output_type": "stream",
     "text": [
      "15511210043330985984000000\n"
     ]
    }
   ],
   "source": [
    "from functools import reduce\n",
    "\n",
    "numbers = range(1, 26)\n",
    "product = reduce(lambda x, y: x * y, numbers)\n",
    "print(product)"
   ]
  },
  {
   "cell_type": "markdown",
   "id": "d2b000b7",
   "metadata": {},
   "source": [
    "##### Q5. Python program to filter numbers divisible by 2 and 3 using filter:"
   ]
  },
  {
   "cell_type": "code",
   "execution_count": 5,
   "id": "9ea023af",
   "metadata": {},
   "outputs": [
    {
     "name": "stdout",
     "output_type": "stream",
     "text": [
      "[6, 60, 90, 120]\n"
     ]
    }
   ],
   "source": [
    "numbers = [2, 3, 6, 9, 27, 60, 90, 120, 55, 46]\n",
    "divisible_by_2_and_3 = list(filter(lambda x: x % 2 == 0 and x % 3 == 0, numbers))\n",
    "print(divisible_by_2_and_3)"
   ]
  },
  {
   "cell_type": "markdown",
   "id": "02d4458e",
   "metadata": {},
   "source": [
    "##### Q6. Python program to find palindromes in a list of strings using lambda and filter:"
   ]
  },
  {
   "cell_type": "code",
   "execution_count": 6,
   "id": "6fe844ad",
   "metadata": {},
   "outputs": [
    {
     "name": "stdout",
     "output_type": "stream",
     "text": [
      "['php', 'aba', 'radar', 'level']\n"
     ]
    }
   ],
   "source": [
    "words = ['python', 'php', 'aba', 'radar', 'level']\n",
    "palindromes = list(filter(lambda x: x == x[::-1], words))\n",
    "print(palindromes)"
   ]
  }
 ],
 "metadata": {
  "kernelspec": {
   "display_name": "Python 3 (ipykernel)",
   "language": "python",
   "name": "python3"
  },
  "language_info": {
   "codemirror_mode": {
    "name": "ipython",
    "version": 3
   },
   "file_extension": ".py",
   "mimetype": "text/x-python",
   "name": "python",
   "nbconvert_exporter": "python",
   "pygments_lexer": "ipython3",
   "version": "3.10.9"
  }
 },
 "nbformat": 4,
 "nbformat_minor": 5
}
